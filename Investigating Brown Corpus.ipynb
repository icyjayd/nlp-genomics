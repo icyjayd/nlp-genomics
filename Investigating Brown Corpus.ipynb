{
 "cells": [
  {
   "cell_type": "code",
   "execution_count": 1,
   "id": "f19ce736",
   "metadata": {},
   "outputs": [],
   "source": [
    "import youtokentome as yttm\n",
    "model_path = '/gpfs/data/johnsonslab/nlp-genomics/english_corpora/brown_8192k.model'\n",
    "bpe = yttm.BPE(model=model_path)\n",
    "import matplotlib.pyplot as plt\n",
    "import operator\n",
    "import numpy as np\n"
   ]
  },
  {
   "cell_type": "code",
   "execution_count": 2,
   "id": "12afbf1a",
   "metadata": {},
   "outputs": [],
   "source": [
    "\n",
    "# with(open('/gpfs/data/johnsonslab/nlp-genomics/english_corpora/brown_nolines.txt', 'r')) as f:\n",
    "#     with(open('/gpfs/data/johnsonslab/nlp-genomics/english_corpora/brown_nowhitelines.txt', 'w')) as g:\n",
    "#         for line in f.readlines():\n",
    "#             if(line != \"\\n\"):\n",
    "#                 g.write(\" \".join(line.split()) + \"\\n\")\n",
    "        "
   ]
  },
  {
   "cell_type": "markdown",
   "id": "4859c9f2",
   "metadata": {},
   "source": [
    "# Tokenizing Brown Corpus"
   ]
  },
  {
   "cell_type": "markdown",
   "id": "d9969ebd",
   "metadata": {},
   "source": [
    "### Tokenization"
   ]
  },
  {
   "cell_type": "code",
   "execution_count": 3,
   "id": "f4cf8ae8",
   "metadata": {},
   "outputs": [],
   "source": [
    "tokenizations = []\n",
    "with(open('/gpfs/data/johnsonslab/nlp-genomics/english_corpora/brown_nowhitelines.txt', 'r')) as f:\n",
    "    for line in f.readlines():\n",
    "        tokenizations.append(bpe.encode(line.strip(), output_type =yttm.OutputType.SUBWORD))\n"
   ]
  },
  {
   "cell_type": "markdown",
   "id": "35a480f3",
   "metadata": {},
   "source": [
    "### Counting tokens"
   ]
  },
  {
   "cell_type": "code",
   "execution_count": 13,
   "id": "175b6111",
   "metadata": {},
   "outputs": [],
   "source": [
    "freqs = {}\n",
    "for tokenization in tokenizations:\n",
    "    for token in tokenization:\n",
    "        if token in freqs.keys():\n",
    "            freqs[token] +=1\n",
    "        else:\n",
    "            freqs[token] = 1\n",
    "sorted_freqs = sorted(freqs.items(), key=operator.itemgetter(1), reverse=True)\n",
    "sorted_freq_values=[sorted_freqs[i][1] for i in range(len(sorted_freqs))]"
   ]
  },
  {
   "cell_type": "markdown",
   "id": "0ee7d6f5",
   "metadata": {},
   "source": [
    "### Plotting rank vs. frequency"
   ]
  },
  {
   "cell_type": "code",
   "execution_count": 18,
   "id": "91b1d15e",
   "metadata": {},
   "outputs": [
    {
     "data": {
      "text/plain": [
       "Text(0, 0.5, 'Log(Frequency)')"
      ]
     },
     "execution_count": 18,
     "metadata": {},
     "output_type": "execute_result"
    },
    {
     "data": {
      "image/png": "[encoded data removed]",
      "text/plain": [
       "<Figure size 432x288 with 1 Axes>"
      ]
     },
     "metadata": {
      "needs_background": "light"
     },
     "output_type": "display_data"
    }
   ],
   "source": [
    "plt.plot(np.log(np.arange(1, len(freqs)+1)),np.log(sorted_freq_values))\n",
    "plt.title('Brown Corpus Rank vs. Frequency (Vocab 8.192M)')\n",
    "plt.xlabel('Log(Rank)')\n",
    "plt.ylabel('Log(Frequency)')"
   ]
  },
  {
   "cell_type": "code",
   "execution_count": 9,
   "id": "c128ffa2",
   "metadata": {},
   "outputs": [
    {
     "name": "stdout",
     "output_type": "stream",
     "text": [
      "[ 8.77214544  2.77258872  4.06044301  2.83321334  0.69314718  6.85646198\n",
      "  3.63758616  8.16593214  3.40119738 10.48840901]\n"
     ]
    }
   ],
   "source": [
    "print(np.log(list(freqs.values()))[:10])"
   ]
  },
  {
   "cell_type": "code",
   "execution_count": 7,
   "id": "899b5805",
   "metadata": {},
   "outputs": [
    {
     "name": "stdout",
     "output_type": "stream",
     "text": [
      "[ 0.          0.69314718  1.09861229 ... 11.51526273 11.51527271\n",
      " 11.51528268]\n"
     ]
    }
   ],
   "source": [
    "print(np.log(np.arange(1,len(freqs)+1)))"
   ]
  },
  {
   "cell_type": "code",
   "execution_count": null,
   "id": "fb4cfbe7",
   "metadata": {},
   "outputs": [],
   "source": []
  }
 ],
 "metadata": {
  "kernelspec": {
   "display_name": "Python 3 (ipykernel)",
   "language": "python",
   "name": "python3"
  },
  "language_info": {
   "codemirror_mode": {
    "name": "ipython",
    "version": 3
   },
   "file_extension": ".py",
   "mimetype": "text/x-python",
   "name": "python",
   "nbconvert_exporter": "python",
   "pygments_lexer": "ipython3",
   "version": "3.9.7"
  }
 },
 "nbformat": 4,
 "nbformat_minor": 5
}
