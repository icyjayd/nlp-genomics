{
 "cells": [
  {
   "cell_type": "code",
   "execution_count": 1,
   "metadata": {},
   "outputs": [
    {
     "name": "stdout",
     "output_type": "stream",
     "text": [
      "/gpfs/data/johnsonslab/nlp-genomics/english_corpora\n",
      "CPU times: user 1.29 s, sys: 457 ms, total: 1.75 s\n",
      "Wall time: 9.37 s\n"
     ]
    }
   ],
   "source": [
    "%%time\n",
    "%cd /gpfs/data/johnsonslab/nlp-genomics/english_corpora\n",
    "import pandas as pd\n",
    "# pd.set_option('display.max_colwidth', None)\n",
    "import gzip\n",
    "import re\n",
    "import tarfile\n",
    "import os\n",
    "import youtokentome as yttm\n",
    "import matplotlib.pyplot as plt\n",
    "from matplotlib import cm\n",
    "import numpy as np\n",
    "from collections import defaultdict\n",
    "import operator\n",
    "import ftplib\n",
    "from scipy.optimize import curve_fit\n",
    "from functools import partial\n",
    "#import pyperclip\n",
    "import itertools\n",
    "#import sentencepiece as spm\n",
    "%matplotlib inline\n",
    "from tqdm import tqdm\n",
    "model_path = \"brown_8192k.model\"\n",
    "bpe = yttm.BPE(model=model_path)\n",
    "\n",
    "\n"
   ]
  },
  {
   "cell_type": "code",
   "execution_count": 4,
   "metadata": {},
   "outputs": [
    {
     "name": "stdout",
     "output_type": "stream",
     "text": [
      "2.0.3\n"
     ]
    }
   ],
   "source": [
    "print(pd.__version__)"
   ]
  },
  {
   "cell_type": "code",
   "execution_count": 28,
   "metadata": {},
   "outputs": [
    {
     "name": "stdout",
     "output_type": "stream",
     "text": [
      "139240\n"
     ]
    }
   ],
   "source": [
    "print(bpe.vocab_size())"
   ]
  },
  {
   "cell_type": "markdown",
   "metadata": {},
   "source": [
    "### Counting token frequencies"
   ]
  },
  {
   "cell_type": "code",
   "execution_count": 29,
   "metadata": {},
   "outputs": [
    {
     "name": "stdout",
     "output_type": "stream",
     "text": [
      "['▁The', '▁Fulton', '▁County', '▁Grand', '▁Jury', '▁said', '▁Friday', '▁an', '▁investigation', '▁of', \"▁Atlanta's\", '▁recent', '▁primary', '▁election', '▁produced', '▁\"no', '▁evidence\"', '▁that', '▁any', '▁irregularities', '▁took', '▁place.']\n",
      "100236\n",
      "Average tokenization length:  70.76697810626133\n",
      "CPU times: user 2.53 s, sys: 10.4 ms, total: 2.54 s\n",
      "Wall time: 3.23 s\n"
     ]
    }
   ],
   "source": [
    "%%time\n",
    "import operator\n",
    "freqs = {}\n",
    "threshold = 0\n",
    "total_len = 0\n",
    "total_count = 0\n",
    "i = 0\n",
    "with(open('brown_nowhitelines.txt', 'r')) as f:\n",
    "    for line in f:\n",
    "        i+=1\n",
    "        tokens= bpe.encode(line.strip(), output_type =yttm.OutputType.SUBWORD )\n",
    "        if i==1:print(tokens)\n",
    "#         tokens = tokenize(line.strip(), length_threshold=threshold)\n",
    "        total_len +=len(tokens)\n",
    "        total_count +=1\n",
    "        for token in tokens:\n",
    "            if token not in freqs.keys():\n",
    "                freqs[token] = 1\n",
    "            else:\n",
    "                freqs[token]+=1\n",
    "sorted_freqs = sorted(freqs.items(), key=operator.itemgetter(1), reverse=True)\n",
    "print(len(sorted_freqs))\n",
    "print(\"Average tokenization length: \", total_len/total_count)\n",
    "\n"
   ]
  },
  {
   "cell_type": "code",
   "execution_count": 30,
   "metadata": {},
   "outputs": [
    {
     "name": "stdout",
     "output_type": "stream",
     "text": [
      "4\n",
      "[[0.         1.        ]\n",
      " [0.30103    1.        ]\n",
      " [0.47712125 1.        ]\n",
      " ...\n",
      " [5.00101506 1.        ]\n",
      " [5.00101939 1.        ]\n",
      " [5.00102373 1.        ]] [[4.79539333]\n",
      " [4.55505816]\n",
      " [4.43825747]\n",
      " ...\n",
      " [0.        ]\n",
      " [0.        ]\n",
      " [0.        ]]\n"
     ]
    },
    {
     "data": {
      "text/plain": [
       "Text(0, 0.5, 'Log10 Frequency')"
      ]
     },
     "execution_count": 30,
     "metadata": {},
     "output_type": "execute_result"
    },
    {
     "data": {
      "image/png": "[encoded data removed]",
      "text/plain": [
       "<Figure size 432x288 with 1 Axes>"
      ]
     },
     "metadata": {},
     "output_type": "display_data"
    }
   ],
   "source": [
    "sorted_freq_values = []\n",
    "sorted_freq_lengths = []\n",
    "freq_threshold=0\n",
    "print(len(sorted_freqs[0][0]))\n",
    "for freq in sorted_freqs:\n",
    "    sorted_freq_values.append(freq[1])\n",
    "    if(freq[1]>freq_threshold):\n",
    "        sorted_freq_lengths.append(len(freq[0]))\n",
    "        \n",
    "ranks = np.arange(1, len(sorted_freqs) + 1)\n",
    "x = np.log10(ranks).reshape(len(ranks), 1)\n",
    "X = np.append(x, np.ones((len(ranks), 1)), axis=1)\n",
    "y = np.array(np.log10(sorted_freq_values)).reshape(len(sorted_freq_values), 1)\n",
    "print(X, y)\n",
    "theta = np.linalg.inv(X.T.dot(X)).dot(X.T).dot(y)\n",
    "y_line = X.dot(theta)\n",
    "plt.plot(np.log10(ranks), np.log10(sorted_freq_values))\n",
    "plt.plot(x, y_line)\n",
    "plt.title('Log10 Rank vs. Log10 Frequency\\nof Brown Corpus (Vocab 8.192M)')\n",
    "plt.legend(['Data', 'Best Fit'])\n",
    "plt.xlabel('Log10 Rank')\n",
    "plt.ylabel('Log10 Frequency')"
   ]
  },
  {
   "cell_type": "code",
   "execution_count": 31,
   "metadata": {},
   "outputs": [
    {
     "name": "stdout",
     "output_type": "stream",
     "text": [
      "number of types to reach 50%:  230\n",
      "0.229458477991939 % of types make up half of all tokens\n"
     ]
    }
   ],
   "source": [
    "total = 0 \n",
    "for i in range(1, len(sorted_freq_values)):\n",
    "    total+= sorted_freq_values[i-1]\n",
    "    if total>=sum(sorted_freq_values)/2:\n",
    "        break\n",
    "print(\"number of types to reach 50%: \", i)\n",
    "print(i/len(sorted_freq_values) * 100, \"% of types make up half of all tokens\")"
   ]
  },
  {
   "cell_type": "code",
   "execution_count": 32,
   "metadata": {},
   "outputs": [
    {
     "name": "stdout",
     "output_type": "stream",
     "text": [
      "58140 types only appear once in all tokenizations\n",
      "58.00311265413624 % of all types only appear once\n",
      "Half of all types appear 1 times or fewer\n"
     ]
    }
   ],
   "source": [
    "sfv_array = np.array(sorted_freq_values)\n",
    "singles = sfv_array[sfv_array<=1]\n",
    "print(len(singles), \"types only appear once in all tokenizations\")\n",
    "print(len(singles)/len(sorted_freq_values) * 100, \"% of all types only appear once\")\n",
    "print(\"Half of all types appear\", sorted_freq_values[int(len(sorted_freq_values)/2)], \"times or fewer\")\n"
   ]
  },
  {
   "cell_type": "code",
   "execution_count": 33,
   "metadata": {},
   "outputs": [
    {
     "data": {
      "text/plain": [
       "Text(0, 0.5, 'Frequency')"
      ]
     },
     "execution_count": 33,
     "metadata": {},
     "output_type": "execute_result"
    },
    {
     "data": {
      "image/png": "[encoded data removed]",
      "text/plain": [
       "<Figure size 432x288 with 1 Axes>"
      ]
     },
     "metadata": {},
     "output_type": "display_data"
    }
   ],
   "source": [
    "plt.hist((sorted_freq_lengths), bins=100, log=True)\n",
    "plt.title(\"Log10 frequencies of lengths of types (Vocab 8.192M)\")\n",
    "plt.xlabel(\"Length\")\n",
    "plt.ylabel(\"Frequency\")"
   ]
  },
  {
   "cell_type": "code",
   "execution_count": null,
   "metadata": {},
   "outputs": [],
   "source": []
  }
 ],
 "metadata": {
  "kernelspec": {
   "display_name": "Python 3 (ipykernel)",
   "language": "python",
   "name": "python3"
  },
  "language_info": {
   "codemirror_mode": {
    "name": "ipython",
    "version": 3
   },
   "file_extension": ".py",
   "mimetype": "text/x-python",
   "name": "python",
   "nbconvert_exporter": "python",
   "pygments_lexer": "ipython3",
   "version": "3.8.13"
  }
 },
 "nbformat": 4,
 "nbformat_minor": 4
}
