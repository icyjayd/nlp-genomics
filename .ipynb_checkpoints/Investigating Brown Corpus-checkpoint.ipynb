{
 "cells": [
  {
   "cell_type": "code",
   "execution_count": 1,
   "id": "f19ce736",
   "metadata": {},
   "outputs": [],
   "source": [
    "import youtokentome as yttm\n",
    "model_path = '/gpfs/data/johnsonslab/nlp-genomics/english_corpora/brown_8192k.model'\n",
    "bpe = yttm.BPE(model=model_path)\n",
    "import matplotlib.pyplot as plt\n",
    "import operator\n",
    "import numpy as np\n"
   ]
  },
  {
   "cell_type": "code",
   "execution_count": 2,
   "id": "12afbf1a",
   "metadata": {},
   "outputs": [],
   "source": [
    "\n",
    "# with(open('/gpfs/data/johnsonslab/nlp-genomics/english_corpora/brown_nolines.txt', 'r')) as f:\n",
    "#     with(open('/gpfs/data/johnsonslab/nlp-genomics/english_corpora/brown_nowhitelines.txt', 'w')) as g:\n",
    "#         for line in f.readlines():\n",
    "#             if(line != \"\\n\"):\n",
    "#                 g.write(\" \".join(line.split()) + \"\\n\")\n",
    "        "
   ]
  },
  {
   "cell_type": "markdown",
   "id": "4859c9f2",
   "metadata": {},
   "source": [
    "# Tokenizing Brown Corpus"
   ]
  },
  {
   "cell_type": "markdown",
   "id": "d9969ebd",
   "metadata": {},
   "source": [
    "### Tokenization"
   ]
  },
  {
   "cell_type": "code",
   "execution_count": 3,
   "id": "f4cf8ae8",
   "metadata": {},
   "outputs": [],
   "source": [
    "tokenizations = []\n",
    "with(open('/gpfs/data/johnsonslab/nlp-genomics/english_corpora/brown_nowhitelines.txt', 'r')) as f:\n",
    "    for line in f.readlines():\n",
    "        tokenizations.append(bpe.encode(line.strip(), output_type =yttm.OutputType.SUBWORD))\n"
   ]
  },
  {
   "cell_type": "markdown",
   "id": "35a480f3",
   "metadata": {},
   "source": [
    "### Counting tokens"
   ]
  },
  {
   "cell_type": "code",
   "execution_count": 4,
   "id": "175b6111",
   "metadata": {},
   "outputs": [],
   "source": [
    "freqs = {}\n",
    "for tokenization in tokenizations:\n",
    "    for token in tokenization:\n",
    "        if token in freqs.keys():\n",
    "            freqs[token] +=1\n",
    "        else:\n",
    "            freqs[token] = 1\n",
    "sorted_freqs = sorted(freqs.items(), key=operator.itemgetter(1), reverse=True)\n"
   ]
  },
  {
   "cell_type": "markdown",
   "id": "0ee7d6f5",
   "metadata": {},
   "source": [
    "### Plotting rank vs. frequency"
   ]
  },
  {
   "cell_type": "code",
   "execution_count": null,
   "id": "91b1d15e",
   "metadata": {},
   "outputs": [],
   "source": [
    "plt.plot(np.log(freqs.values()), np.log(np.arange(1, len(freqs)+1)))"
   ]
  },
  {
   "cell_type": "code",
   "execution_count": null,
   "id": "c128ffa2",
   "metadata": {},
   "outputs": [],
   "source": []
  }
 ],
 "metadata": {
  "kernelspec": {
   "display_name": "Python 3 (ipykernel)",
   "language": "python",
   "name": "python3"
  },
  "language_info": {
   "codemirror_mode": {
    "name": "ipython",
    "version": 3
   },
   "file_extension": ".py",
   "mimetype": "text/x-python",
   "name": "python",
   "nbconvert_exporter": "python",
   "pygments_lexer": "ipython3",
   "version": "3.9.7"
  }
 },
 "nbformat": 4,
 "nbformat_minor": 5
}
